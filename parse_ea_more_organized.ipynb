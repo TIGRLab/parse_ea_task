{
 "cells": [
  {
   "cell_type": "code",
   "execution_count": 1,
   "metadata": {},
   "outputs": [],
   "source": [
    "import pandas as pd\n",
    "import numpy as np\n",
    "\n",
    "pd.set_option('display.max_rows', 400) ##REMOVE IN SCRIPT"
   ]
  },
  {
   "cell_type": "code",
   "execution_count": 65,
   "metadata": {},
   "outputs": [],
   "source": [
    "def read_in_logfile(path):\n",
    "    log_file=pd.read_csv(path, sep='\\t', skiprows=3)\n",
    "\n",
    "    time_to_subtract=int(log_file.Time[log_file.Code=='MRI_start'])\n",
    "\n",
    "    log_file.Time=log_file.Time-time_to_subtract #subtracts mri start times from onset (i think... check what JV did...)\n",
    "    \n",
    "    return log_file\n",
    "\n",
    "def get_blocks(log,vid_info):\n",
    "    #identifies the video trial types (as opposed to button press events etc)\n",
    "    mask = [\"vid\" in log['Code'][i] for i in range(0,log.shape[0])]\n",
    "    #this isnt totally right lol\n",
    "    #creates the dataframe with onset times and event types\n",
    "    df = pd.DataFrame({'onset':log.loc[mask]['Time'], \n",
    "                  'trial_type':log.loc[mask]['Event Type'], \n",
    "                  'movie_name':log.loc[mask]['Code']})\n",
    "        \n",
    "    #adds trial type info\n",
    "    df['trial_type']=df['movie_name'].apply(lambda x: \"circle_block\" if \"cvid\" in x else \"EA_block\")\n",
    "\n",
    "    #add durations and convert them into the units here? ms??\n",
    "    df['duration']=df['movie_name'].apply(lambda x: int(vid_info[x]['duration'])*10000 if x in vid_info else \"n/a\")\n",
    "\n",
    "    #I don't actually know what the stim files are called for the circle ones - also these names aren't exact,gotta figure out a way to get exact file names\n",
    "    df['stim_file']=df['movie_name'].apply(lambda x: vid_info[x]['stim_file'] if x in vid_info else \"n/a\") \n",
    "    \n",
    "    \n",
    "    df['end']=df['onset']+df['duration']\n",
    "\n",
    "        \n",
    "    return(df)\n",
    "\n",
    "\n",
    "    \n",
    "def format_vid_info(vid):\n",
    "    vid.columns = map(str.lower, vid.columns)\n",
    "    vid = vid.rename(index={0:\"stim_file\", 1:\"duration\"})\n",
    "    vid = vid.to_dict()\n",
    "    return(vid)\n",
    "\n",
    "\n",
    "def read_in_standard(timing_path):\n",
    "    df = pd.read_csv(timing_path).astype(str)\n",
    "    df.columns = map(str.lower, df.columns)\n",
    "    df_dict = df.drop([0,0]).reset_index(drop=True).to_dict(orient='list') #drops the video name\n",
    "    return(df_dict)\n",
    "\n",
    "def get_series_standard(gold_standard, block_name):\n",
    "    \n",
    "    return([float(x) for x in ratings_dict[block_name] if x != 'nan'])\n",
    "\n",
    "\n",
    "def get_ratings(log):\n",
    "    #the times in this row are EXTREMELY close to the other times. This isn't EEG, I think we're prolly ok\n",
    "    rating_mask = [\"rating\" in log['Code'][i] for i in range(0,log.shape[0])]  \n",
    "    #RT_mask=  [\"Response\" in log['Event Type'][i] and log['Code'][i]!=\"101\"  for i in range(0,log.shape[0]-1)]  #this is from when i was doing it the response time way, but idk how i feel abt that\n",
    "\n",
    "    #so now this grabs the timestamp from the row before (which is the actual onset) then applies the rating mask to that list of values\n",
    "    #df = pd.DataFrame({'onset':log['Time'].shift(1).loc[rating_mask].values, 'participant_value':log.loc[rating_mask]['Code'].values, 'event_type':'button_press', 'duration':0})    \n",
    "    \n",
    "    \n",
    "    #switching it to not be from the row before because if it has a vid tag before it then it will get the wrong onset number\n",
    "    df = pd.DataFrame({'onset':log['Time'].loc[rating_mask].values, 'participant_value':log.loc[rating_mask]['Code'].values, 'event_type':'button_press', 'duration':0})    \n",
    "    #this pretty much fixes it except for the vid_thing - one thing I could do is just get rid of the vid_ rows!! TODO later.\n",
    "    \n",
    "    #gets rating substring from participant numbers\n",
    "    df['participant_value'] = df['participant_value'].str.strip().str[-1] #do i have to add a .astype to this?\n",
    "    \n",
    "    #TODO: probably remove this from this function and rewrite it in the place where i combine the ratings and block info\n",
    "    #df['rating_duration'] = df.onset.shift(-1)-df.onset #this isnt totally correct bc of the stuff.\n",
    "\n",
    "    return(df)\n",
    "\n",
    "\n",
    "def combine_dfs(blocks,ratings):\n",
    "    combo=blocks.append(ratings).sort_values(\"onset\").reset_index(drop=True)\n",
    "\n",
    "    mask = pd.notnull(combo['trial_type'])\n",
    "    #combo['end_time']=combo['onset']-combo['onset'].shift(1)\n",
    "\n",
    "    combo['rating_duration']=combo['onset'].shift(-1)-combo['onset'].where(mask==False) #hmm but how do i make the ones in the end of the row? because those actually should calculate from block_end, not from the beginning of the next guy...\n",
    "    #this one is tricky!!\n",
    "\n",
    "    block_start_locs=combo[mask].index.values\n",
    "\n",
    "    #so one way to do this would be to make durations visible everywhere\n",
    "\n",
    "    #can i do for i in block_start_locs\n",
    "\n",
    "    #yay! fixes the rating for the last button press of a series!\n",
    "    #gives a SettingWithCopy warning\n",
    "    #TODO: fix this lol\n",
    "    #this ends up not assigning a value for the final button press - there must be a more elegant way to do all this\n",
    "    for i in range(len(block_start_locs)):\n",
    "        if block_start_locs[i] != 0:\n",
    "            #maybe i should calculate these vars separately for clarity\n",
    "            combo.rating_duration[block_start_locs[i]-1]=combo.end[block_start_locs[i-1]] - combo.onset[block_start_locs[i]-1]\n",
    "\n",
    "            \n",
    "#adds rows that contain the 5 second at the beginning default value\n",
    "    for i in block_start_locs:\n",
    "            new_row={'onset':combo.onset[i],\n",
    "            'rating_duration':combo.onset[i+1] - combo.onset[i],\n",
    "            'event_type':'default_rating',\n",
    "            'duration':0,\n",
    "            'participant_value':5}\n",
    "            combo=combo.append(new_row,ignore_index=True)\n",
    "        \n",
    "    combo=combo.sort_values(\"onset\").reset_index(drop=True)\n",
    "\n",
    "    return(combo)\n",
    "\n",
    "\n",
    "\n",
    "def block_scores(ratings_dict,combo):\n",
    "    list_of_rows=[]\n",
    "    summary_vals = {}\n",
    "    mask = pd.notnull(combo['trial_type']) #selects the beginning of trials/trial headers #i feel like im recalculating that in lots of places, seems bad maybe\n",
    "    block_start_locs=combo[mask].index.values #i could just append the end to that\n",
    "    block_start_locs= np.append(block_start_locs, combo.tail(1).index.values, axis=None)\n",
    "\n",
    "    for idx in range(1, len(block_start_locs)):\n",
    "            #df['trial_type']=df['movie_name'].apply(lambda x: \"circle_block\" if \"cvid\" in x else \"EA_block\")\n",
    "\n",
    "        block_start=combo.onset[block_start_locs[idx-1]]\n",
    "        block_end=combo.end[block_start_locs[idx-1]]\n",
    "\n",
    "        #selects the rows between the start and the end that contain button presses\n",
    "        #should just change this to select the rows, idk why not lol\n",
    "\n",
    "        block = combo.iloc[block_start_locs[idx-1]:block_start_locs[idx]][pd.notnull(combo.event_type)]#between is inclusive by default\n",
    "        block_name=combo.movie_name.iloc[block_start_locs[idx-1]:block_start_locs[idx]][pd.notnull(combo.movie_name)].reset_index(drop=True).astype(str).get(0)\n",
    "\n",
    "        ###############################################################################################\n",
    "        gold=get_series_standard(ratings_dict,block_name)\n",
    "\n",
    "        if \"cvid\" in block_name:\n",
    "            interval = np.arange(combo.onset[block_start_locs[idx-1]], combo.end[block_start_locs[idx-1]],step=40000) #AAA oh no this only applies to the vid not the cvid (put a conditional here)\n",
    "        else:\n",
    "            interval = np.arange(combo.onset[block_start_locs[idx-1]], combo.end[block_start_locs[idx-1]],step=20000) #AAA oh no this only applies to the vid not the cvid (put a conditional here)\n",
    "\n",
    "\n",
    "\n",
    "        #todo: remove print statements lol\n",
    "\n",
    "        if len(gold) < len(interval):\n",
    "            interval=interval[:len(gold)]\n",
    "            print(\"warning:gold standard is shorter than the number of pt ratings, pt ratings truncated\", block_name)\n",
    "            #todo: insert a warning that the participant ratings were truncated\n",
    "            #also this doesnt account for a situation where there are less ratings than the gold standard\n",
    "            #which could absolutely be a thing if the task was truncated\n",
    "            #gold.extend([gold[-1]]*(len(interval)-len(gold)))\n",
    "\n",
    "        if len(interval) < len(gold):\n",
    "            gold=gold[:len(interval)]\n",
    "            print(\"warning:number of pt ratings is shorter than the number of gold std,gold std truncated\", block_name)\n",
    "            #todo: insert a warning that the participant ratings were truncated            \n",
    "\n",
    "        interval=np.append(interval, block_end) #this is to append for the remaining fraction of a second (so that the loop goes to the end i guess...)- maybe i dont need to do this\n",
    "\n",
    "        #why is this not doing what it is supposed to do.\n",
    "        #these ifs are NOT working\n",
    "        two_s_avg=[]\n",
    "        for x in range(len(interval)-1):\n",
    "            start=interval[x]\n",
    "            end=interval[x+1]\n",
    "            #things that start within the time interval plus the one that starts during the time interval\n",
    "            sub_block= block[block['onset'].between(start,end) | block['onset'].between(start,end).shift(-1)]\n",
    "            block_length=end-start\n",
    "            if len(sub_block) !=0: \n",
    "                ratings=[]\n",
    "                last_val=sub_block.participant_value.iloc[[-1]]\n",
    "                for index, row in sub_block.iterrows():\n",
    "                    #for rows that are in the thing\n",
    "                    if (row.onset < start): #and (row.onset+row.duration)>start: #what's the best order to do these conditionals in?\n",
    "                        #if (row.onset+row.duration)>start: # this is just to be safe i guess, gonna see what happens if i comment it out\n",
    "                        numerator=(row.onset+row.rating_duration)-start\n",
    "                    else:#if row.onset>=start and row.onset<end: #ooo should i do row.onset<end for everything??\n",
    "                        if (row.onset+row.rating_duration) <= end:\n",
    "                            numerator=row.rating_duration\n",
    "                        elif (row.onset+row.rating_duration) > end: \n",
    "                            numerator = end - row.onset\n",
    "                        else:\n",
    "                            numerator=9999999\n",
    "                    last_row=row.participant_value\n",
    "                    #okay so i want to change this to actually create the beginnings of an important row in our df!\n",
    "                    ratings.append({'start':start,'end':end,'row_time':row.rating_duration, 'row_start': row.onset, 'block_length':block_length,'rating':row.participant_value, 'time_held':numerator})#, 'start': start, 'end':end})\n",
    "                    nums=[float(d['rating']) for d in ratings]\n",
    "                    times=[float(d['time_held'])/block_length for d in ratings]\n",
    "                    avg=np.sum(np.multiply(nums,times))\n",
    "            else:\n",
    "                avg=last_row\n",
    "\n",
    "            #okay so i want to change this to actually create the beginnings of an important row in our df!\n",
    "            two_s_avg.append(float(avg))\n",
    "            #list_of_rows.append({'event_type':\"two_sec_avg\",'block_name':block_name, 'participant_value':float(avg),'onset':start,'duration':end-start, 'gold_std': gold[x]})\n",
    "            list_of_rows.append({'event_type':\"running_avg\", 'participant_value':float(avg),'onset':start,'duration':end-start, 'gold_std': gold[x]})\n",
    "            #removed block_name from above\n",
    "            \n",
    "        n_button_press=len(block[block.event_type=='button_press'].index)\n",
    "        print(n_button_press)\n",
    "        block_score=np.corrcoef(gold,two_s_avg)[1][0] \n",
    "        key=str(block_name)\n",
    "        summary_vals.update({key:{'n_button_press':int(n_button_press),'block_score':block_score,'onset':block_start,'duration':block_end-block_start}})\n",
    "        #summary_vals.append(block_name:{'block_score':block_score,'block_name':block_name,'onset':block_start,'duration':block_end-block_start}) #i can probably not recalculate duration, just gotta remember how\n",
    "    return(list_of_rows,summary_vals)\n",
    "\n"
   ]
  },
  {
   "cell_type": "code",
   "execution_count": 70,
   "metadata": {},
   "outputs": [
    {
     "name": "stderr",
     "output_type": "stream",
     "text": [
      "/mnt/tigrlab/archive/code/python_2.7.13_packages_01/lib/python2.7/site-packages/ipykernel_launcher.py:98: SettingWithCopyWarning: \n",
      "A value is trying to be set on a copy of a slice from a DataFrame\n",
      "\n",
      "See the caveats in the documentation: http://pandas.pydata.org/pandas-docs/stable/indexing.html#indexing-view-versus-copy\n",
      "/mnt/tigrlab/archive/code/python_2.7.13_packages_01/lib/python2.7/site-packages/ipykernel_launcher.py:132: UserWarning: Boolean Series key will be reindexed to match DataFrame index.\n"
     ]
    },
    {
     "name": "stdout",
     "output_type": "stream",
     "text": [
      "('warning:number of pt ratings is shorter than the number of gold std,gold std truncated', 'vid_6')\n",
      "2\n",
      "14\n",
      "3\n",
      "19\n",
      "('warning:gold standard is shorter than the number of pt ratings, pt ratings truncated', 'vid_3')\n",
      "4\n"
     ]
    }
   ],
   "source": [
    "#Reads in the log, skipping the first three preamble lines\n",
    "\n",
    "log = read_in_logfile('/projects/gherman/Experimenting_notebooks/SPN01_CMH_0004-UCLAEmpAcc_part2.log')\n",
    "vid_in = pd.read_csv('EA-vid-lengths.csv')\n",
    "\n",
    "vid_info = format_vid_info(vid_in)\n",
    "blocks = get_blocks(log, vid_info)\n",
    "ratings = get_ratings(log)\n",
    "\n",
    "#add the ratings and the block values together, then sort them and make the index numbers sequential\n",
    "combo=combine_dfs(blocks,ratings)\n",
    "\n",
    "ratings_dict= read_in_standard('EA-timing.csv')\n",
    "\n",
    "two_s_chunks,scores= block_scores(ratings_dict,combo) #okay so i need to fix the naming here \n",
    "\n",
    "combo['block_score']=np.nan\n",
    "combo['n_button_press']=np.nan\n",
    "\n",
    "#combo.ix[pd.notnull(combo.trial_type), 'block_score']=\n",
    "\n",
    "#df[df.index.isin(a_list) & df.a_col.isnull()]\n",
    "\n",
    "combo = combo.append(two_s_chunks).sort_values(\"onset\").reset_index(drop=True) #this needs to be fixed etc #need to sort according to name too...\n",
    "\n",
    "test = combo.ix[pd.notnull(combo.stim_file)]\n",
    "\n",
    "for index, row in test.iterrows():\n",
    "    combo.block_score.ix[index]=scores[row['movie_name']]['block_score']\n",
    "    combo.n_button_press.ix[index]=scores[row['movie_name']]['n_button_press']\n",
    "    combo.event_type.ix[index]='block_summary'\n",
    "   \n",
    "    \n",
    "cols=['onset', 'duration','trial_type','event_type','participant_value','gold_std','block_score','n_button_press', 'stim_file']\n",
    "combo=combo[cols]\n",
    "\n",
    "\n",
    "\n",
    "combo.to_csv('SPN01_CMH_0004-UCLAEmpAcc_part2_parsed.tsv', sep='\\t', na_rep='n/a')\n",
    "\n",
    "#NOTE\" \n",
    "#ok so tomorrow ive gotta figure out that error :( ) it occurs with 0004 part 2\n",
    "\n",
    "#I don't think the weighted average is being calculated correctly... -nvm it is! yay!"
   ]
  },
  {
   "cell_type": "code",
   "execution_count": null,
   "metadata": {},
   "outputs": [],
   "source": [
    "#i'm wondering if i should maybe think more carefully about my architecture here in terms of what i need to calculate where.might try to refine this. "
   ]
  },
  {
   "cell_type": "code",
   "execution_count": null,
   "metadata": {
    "scrolled": false
   },
   "outputs": [],
   "source": []
  },
  {
   "cell_type": "code",
   "execution_count": 36,
   "metadata": {},
   "outputs": [
    {
     "data": {
      "text/plain": [
       "'vid_4'"
      ]
     },
     "execution_count": 36,
     "metadata": {},
     "output_type": "execute_result"
    }
   ],
   "source": [
    "combo.iloc[45:62]\n",
    "\n",
    "idx=1\n",
    "block_name=combo.movie_name.iloc[block_start_locs[idx-1]:block_start_locs[idx]][pd.notnull(combo.movie_name)].astype(str).get(0) \n",
    "block_name\n"
   ]
  },
  {
   "cell_type": "code",
   "execution_count": 23,
   "metadata": {},
   "outputs": [
    {
     "data": {
      "text/plain": [
       "[7.0, 7.0, 7.0]"
      ]
     },
     "execution_count": 23,
     "metadata": {},
     "output_type": "execute_result"
    }
   ],
   "source": [
    "[gold[-1]]*(len(interval)-len(gold))"
   ]
  },
  {
   "cell_type": "code",
   "execution_count": 96,
   "metadata": {},
   "outputs": [
    {
     "ename": "NameError",
     "evalue": "name 'gold' is not defined",
     "output_type": "error",
     "traceback": [
      "\u001b[0;31m---------------------------------------------------------------------------\u001b[0m",
      "\u001b[0;31mNameError\u001b[0m                                 Traceback (most recent call last)",
      "\u001b[0;32m<ipython-input-96-a5064a50085b>\u001b[0m in \u001b[0;36m<module>\u001b[0;34m()\u001b[0m\n\u001b[0;32m----> 1\u001b[0;31m \u001b[0mnp\u001b[0m\u001b[0;34m.\u001b[0m\u001b[0mcorrcoef\u001b[0m\u001b[0;34m(\u001b[0m\u001b[0mgold\u001b[0m\u001b[0;34m,\u001b[0m\u001b[0mtwo_s_avg\u001b[0m\u001b[0;34m)\u001b[0m\u001b[0;34m[\u001b[0m\u001b[0;36m1\u001b[0m\u001b[0;34m]\u001b[0m\u001b[0;34m[\u001b[0m\u001b[0;36m0\u001b[0m\u001b[0;34m]\u001b[0m\u001b[0;34m\u001b[0m\u001b[0m\n\u001b[0m",
      "\u001b[0;31mNameError\u001b[0m: name 'gold' is not defined"
     ]
    }
   ],
   "source": [
    "np.corrcoef(gold,two_s_avg)[1][0]"
   ]
  },
  {
   "cell_type": "code",
   "execution_count": 53,
   "metadata": {},
   "outputs": [
    {
     "data": {
      "text/plain": [
       "array([102])"
      ]
     },
     "execution_count": 53,
     "metadata": {},
     "output_type": "execute_result"
    }
   ],
   "source": [
    "#ratings,scores=block_scores(ratings_dict,combo)\n",
    "combo.tail(1).index.values"
   ]
  },
  {
   "cell_type": "code",
   "execution_count": null,
   "metadata": {},
   "outputs": [],
   "source": []
  },
  {
   "cell_type": "code",
   "execution_count": 34,
   "metadata": {},
   "outputs": [
    {
     "name": "stderr",
     "output_type": "stream",
     "text": [
      "/mnt/tigrlab/archive/code/python_2.7.13_packages_01/lib/python2.7/site-packages/ipykernel_launcher.py:16: UserWarning: Boolean Series key will be reindexed to match DataFrame index.\n",
      "  app.launch_new_instance()\n"
     ]
    },
    {
     "name": "stdout",
     "output_type": "stream",
     "text": [
      "('warning:number of pt ratings is shorter than the number of gold std,gold std truncated', 'vid_6')\n",
      "('warning:gold standard is shorter than the number of pt ratings, pt ratings truncated', 'vid_3')\n"
     ]
    },
    {
     "data": {
      "text/plain": [
       "5"
      ]
     },
     "execution_count": 34,
     "metadata": {},
     "output_type": "execute_result"
    }
   ],
   "source": []
  },
  {
   "cell_type": "code",
   "execution_count": 63,
   "metadata": {
    "scrolled": false
   },
   "outputs": [
    {
     "data": {
      "text/plain": [
       "5"
      ]
     },
     "execution_count": 63,
     "metadata": {},
     "output_type": "execute_result"
    }
   ],
   "source": [
    "n_button_press=len(block[block.event_type=='button_press'].index)\n",
    "n_button_press\n",
    "\n"
   ]
  }
 ],
 "metadata": {
  "kernelspec": {
   "display_name": "Python 2",
   "language": "python",
   "name": "python2"
  },
  "language_info": {
   "codemirror_mode": {
    "name": "ipython",
    "version": 2
   },
   "file_extension": ".py",
   "mimetype": "text/x-python",
   "name": "python",
   "nbconvert_exporter": "python",
   "pygments_lexer": "ipython2",
   "version": "2.7.12"
  }
 },
 "nbformat": 4,
 "nbformat_minor": 2
}
