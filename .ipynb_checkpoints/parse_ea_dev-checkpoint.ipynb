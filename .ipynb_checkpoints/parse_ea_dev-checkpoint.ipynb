{
 "cells": [
  {
   "cell_type": "code",
   "execution_count": 42,
   "metadata": {},
   "outputs": [],
   "source": [
    "import pandas as pd\n",
    "import numpy as np\n"
   ]
  },
  {
   "cell_type": "code",
   "execution_count": null,
   "metadata": {},
   "outputs": [],
   "source": []
  },
  {
   "cell_type": "code",
   "execution_count": 63,
   "metadata": {},
   "outputs": [],
   "source": [
    "def read_in_logfile(path, vid_lengths):\n",
    "    pd.read_csv(path, sep='\\t', skip_rows=3)\n",
    "\n",
    "\n",
    "def get_blocks(log,vid_info):\n",
    "    #identifies the video trial types (as opposed to button press events etc)\n",
    "    mask = [\"vid\" in log['Code'][i] for i in range(0,log.shape[0])]\n",
    "    #this isnt totally right lol\n",
    "    #creates the dataframe with onset times and event types\n",
    "    df = pd.DataFrame({'onset':log.loc[mask]['Time'], \n",
    "                  'trial_type':log.loc[mask]['Event Type'], \n",
    "                  'movie_name':log.loc[mask]['Code']})\n",
    "    \n",
    "    #adds trial type info\n",
    "    df['trial_type']=df['movie_name'].apply(lambda x: \"circle_block\" if \"cvid\" in x else \"EA_block\")\n",
    "\n",
    "    #add durations and convert them into the units here? ms??\n",
    "    df['duration']=df['movie_name'].apply(lambda x: int(vid_info[x]['duration'])*10000 if x in vid_info else \"n/a\")\n",
    "\n",
    "    #I don't actually know what the stim files are called for the circle ones - also these names aren't exact,gotta figure out a way to get exact file names\n",
    "    df['stim_file']=df['movie_name'].apply(lambda x: vid_info[x]['stim_file'] if x in vid_info else \"n/a\")    \n",
    "        \n",
    "    return(df)\n",
    "\n",
    "    \n",
    "def format_vid_info(vid):\n",
    "    vid.columns = map(str.lower, vid.columns)\n",
    "    vid = vid.rename(index={0:\"stim_file\", 1:\"duration\"})\n",
    "    vid = vid.to_dict()\n",
    "    return(vid)\n",
    "\n",
    "\n",
    "\n",
    "def get_ratings(log):\n",
    "    #the times in this row are EXTREMELY close to the other times. This isn't EEG, I think we're prolly ok\n",
    "    rating_mask = [\"rating\" in log['Code'][i] for i in range(0,log.shape[0])]  \n",
    "    #RT_mask=  [\"Response\" in log['Event Type'][i] and log['Code'][i]!=\"101\"  for i in range(0,log.shape[0]-1)]  #this is from when i was doing it the response time way, but idk how i feel abt that\n",
    "\n",
    "    #so now this grabs the timestamp from the row before (which is the actual onset) then applies the rating mask to that list of values\n",
    "    df = pd.DataFrame({'onset':log['Time'].shift(1).loc[rating_mask].values, 'participant_rating':log.loc[rating_mask]['Code'].values, 'event_type':'button_press', 'duration':0})    \n",
    "    \n",
    "    #TODO: probably remove this from this function and rewrite it in the place where i combine the ratings and block info\n",
    "    #df['rating_duration'] = df.onset.shift(-1)-df.onset #this isnt totally correct bc of the stuff.\n",
    "\n",
    "    return(df)\n",
    "\n"
   ]
  },
  {
   "cell_type": "code",
   "execution_count": 74,
   "metadata": {},
   "outputs": [
    {
     "ename": "AttributeError",
     "evalue": "'DataFrame' object has no attribute 'isna'",
     "output_type": "error",
     "traceback": [
      "\u001b[0;31m---------------------------------------------------------------------------\u001b[0m",
      "\u001b[0;31mAttributeError\u001b[0m                            Traceback (most recent call last)",
      "\u001b[0;32m<ipython-input-74-a06fc574c634>\u001b[0m in \u001b[0;36m<module>\u001b[0;34m()\u001b[0m\n\u001b[1;32m      7\u001b[0m \u001b[0;31m#    print(combo['trial_type'])\u001b[0m\u001b[0;34m\u001b[0m\u001b[0;34m\u001b[0m\u001b[0m\n\u001b[1;32m      8\u001b[0m \u001b[0;34m\u001b[0m\u001b[0m\n\u001b[0;32m----> 9\u001b[0;31m \u001b[0mcombo\u001b[0m\u001b[0;34m.\u001b[0m\u001b[0misna\u001b[0m\u001b[0;34m(\u001b[0m\u001b[0;34m)\u001b[0m\u001b[0;34m\u001b[0m\u001b[0m\n\u001b[0m",
      "\u001b[0;32m/mnt/tigrlab/archive/code/python_2.7.13_packages_01/lib/python2.7/site-packages/pandas/core/generic.pyc\u001b[0m in \u001b[0;36m__getattr__\u001b[0;34m(self, name)\u001b[0m\n\u001b[1;32m   2742\u001b[0m             \u001b[0;32mif\u001b[0m \u001b[0mname\u001b[0m \u001b[0;32min\u001b[0m \u001b[0mself\u001b[0m\u001b[0;34m.\u001b[0m\u001b[0m_info_axis\u001b[0m\u001b[0;34m:\u001b[0m\u001b[0;34m\u001b[0m\u001b[0m\n\u001b[1;32m   2743\u001b[0m                 \u001b[0;32mreturn\u001b[0m \u001b[0mself\u001b[0m\u001b[0;34m[\u001b[0m\u001b[0mname\u001b[0m\u001b[0;34m]\u001b[0m\u001b[0;34m\u001b[0m\u001b[0m\n\u001b[0;32m-> 2744\u001b[0;31m             \u001b[0;32mreturn\u001b[0m \u001b[0mobject\u001b[0m\u001b[0;34m.\u001b[0m\u001b[0m__getattribute__\u001b[0m\u001b[0;34m(\u001b[0m\u001b[0mself\u001b[0m\u001b[0;34m,\u001b[0m \u001b[0mname\u001b[0m\u001b[0;34m)\u001b[0m\u001b[0;34m\u001b[0m\u001b[0m\n\u001b[0m\u001b[1;32m   2745\u001b[0m \u001b[0;34m\u001b[0m\u001b[0m\n\u001b[1;32m   2746\u001b[0m     \u001b[0;32mdef\u001b[0m \u001b[0m__setattr__\u001b[0m\u001b[0;34m(\u001b[0m\u001b[0mself\u001b[0m\u001b[0;34m,\u001b[0m \u001b[0mname\u001b[0m\u001b[0;34m,\u001b[0m \u001b[0mvalue\u001b[0m\u001b[0;34m)\u001b[0m\u001b[0;34m:\u001b[0m\u001b[0;34m\u001b[0m\u001b[0m\n",
      "\u001b[0;31mAttributeError\u001b[0m: 'DataFrame' object has no attribute 'isna'"
     ]
    }
   ],
   "source": [
    "#Okay let's try figuring out something w adding in the gold standard ratings...\n",
    "\n",
    "#what if i make an extra column in the logs for time elapsed in video, and then find out which rating it should get by dividing by two\n",
    "\n",
    "#[x for x in combo['trial_type'] if x]\n",
    "#if combo['trial_type']:\n",
    "#    print(combo['trial_type'])\n",
    "\n",
    "combo.isna()"
   ]
  },
  {
   "cell_type": "code",
   "execution_count": 147,
   "metadata": {},
   "outputs": [
    {
     "data": {
      "text/plain": [
       "[{('EA_block', 'NW_6_delighted'): {'end': 12, 'start': 0}},\n",
       " {('circle_block', 'circles1'): {'end': 42, 'start': 13}},\n",
       " {('EA_block', 'AR_4_sad'): {'end': 59, 'start': 43}},\n",
       " {('circle_block', 'circles2'): {'end': 85, 'start': 60}},\n",
       " {('EA_block', 'TA_2_amuse'): {'end': 96, 'start': 86}}]"
      ]
     },
     "execution_count": 147,
     "metadata": {},
     "output_type": "execute_result"
    }
   ],
   "source": [
    "#Reads in the log, skipping the first three preamble lines\n",
    "log=pd.read_csv('/projects/gherman/Experimenting_notebooks/SPN01_CMH_0001-UCLAEmpAcc_part1.log', sep='\\t', skiprows=3)\n",
    "\n",
    "\n",
    "vid_in = pd.read_csv('EA-vid-lengths.csv')\n",
    "vid_info = format_vid_info(vid_in)\n",
    "blocks = get_blocks(log, vid_info)\n",
    "ratings = get_ratings(log)\n",
    "\n",
    "#add the ratings and the block values together, then sort them and make the index numbers sequential\n",
    "combo=blocks.append(ratings).sort_values(\"onset\").reset_index(drop=True)\n",
    "combo\n",
    "#find what index each block starts and ends at, then does some stupid formatting stuff to flatten the array\n",
    "t=np.array(np.where(pd.notnull(combo['trial_type']))).ravel()\n",
    "\n",
    "#adds the end of the last trial\n",
    "t = np.append(t,len(combo[\"trial_type\"])-1)\n",
    "#but this doesnt capture the end of the last trial... how do i make it do that??\n",
    "\n",
    "#creates a dict with trials and start/ends. Next it needs to differentiate between circles and EA and then get the nice values.\n",
    "[{(combo['trial_type'][t[i]],combo['stim_file'][t[i]]): {'start':t[i],'end':t[i+1]-1}} for i in range(len(t)-1)]\n",
    "\n",
    "#(combo['trial_type'][t[0]],combo['trial_type'][t[1]-1])\n",
    "#pd.notnull(combo['trial_type'])\n",
    "#(starts,ends)=[(t[i],t[i+1]-1) for i in range(len(t)-1)]\n",
    "\n",
    "#combo.sort_values(\"onset\")\n",
    "#uses isna in some versions\n",
    "#combo.isnull()\n",
    "\n",
    "#combo.sort_values(\"onset\")\n",
    "\n",
    "\n",
    "#log['Time']=log['Time'].astype(str) #can i read it in initially with strings only? like stringsAsFactors=T in R?\n",
    "\n",
    "#Finds the start and end times of blocks\n",
    "\n",
    "\n",
    "#okay so Time from row n-1 + TTime from row n = Time in row n !!! \n",
    "#We will subtract Duration of MRI start from all times to give us the time\n",
    "#(block_starts, block_types) = (log['Time'][] \n",
    "                               \n",
    " #                              df.loc[df['B'], 'A']\n",
    "\n",
    "#f['c2'] = df['c1'].apply(lambda x: 10 if x == 'Value' else x)\n",
    "\n",
    "#def get_button_press(log):\n",
    "\n",
    "#Time col contains the button press onset time in event_type=response, Code col \n",
    "#contains the button press' value in rating_mask\n",
    "\n",
    "#101 is the event code for some initial button press or response. We can ignore it. (AT LEAST acc. to the CAMH\n",
    "#scan. Please cross-reference with others before finalizing)\n",
    "\n",
    "#log['Time'] = log['Time'].astype(str)\n",
    "#rating_mask = [\"rating\" in log['Time'][i] for i in range(0,log.shape[0]-1)]  \n",
    "#response_mask=  [\"rating\" in log['Code'][i] for i in range(0,log.shape[0]-1)]  \n",
    "\n",
    "#or \"Response\" in log['Code'][i]\n",
    "    \n",
    "#df = pd.DataFrame({'onset':log.loc[rating_mask]['Time'], 'rating':log.loc[response_mask]['Code']})    \n",
    "\n",
    "#df\n",
    "    \n",
    "#pd.DataFrame{'col1': [1, 2], \n",
    "           #  'col2': [3, 4]}\n",
    "\n",
    "#[[log['Code'][i], log['Time'][i], log['Event Type'][i]] for i in range(0,log.shape[0]-1) if(\"vid\" in log['Code'][i])]\n"
   ]
  },
  {
   "cell_type": "code",
   "execution_count": 19,
   "metadata": {},
   "outputs": [],
   "source": [
    "\n",
    "#Time col contains the button press onset time in event_type=response, Code col \n",
    "#contains the button press' value in rating_mask\n",
    "\n",
    "#I am not entirely sure that I should be getting the time from the row before, but it kind of makes sense to take the most straightforward one\n",
    "\n",
    "#101 is the event code for some initial button press or response. We can ignore it. (AT LEAST acc. to the CAMH\n",
    "#scan. Please cross-reference with others before finalizing)\n",
    "\n",
    "\n",
    "#the times in this row are EXTREMELY close to the other times. This isn't EEG, I think we're prolly ok\n",
    "rating_mask = [\"rating\" in log['Code'][i] for i in range(0,log.shape[0])]  \n",
    "#RT_mask=  [\"Response\" in log['Event Type'][i] and log['Code'][i]!=\"101\"  for i in range(0,log.shape[0]-1)]  #this is from when i was doing it the response time way, but idk how i feel abt that\n",
    "\n",
    "#so now this grabs the timestamp from the row before (which is the actual onset) then applies the rating mask to that list of values\n",
    "df = pd.DataFrame({'onset':log['Time'].shift(1).loc[rating_mask].values, 'participant_rating':log.loc[rating_mask]['Code'].values, 'event_type':'button_press', 'duration':0})    \n",
    "\n",
    "df['rating_duration'] = df.onset.shift(-1)-df.onset #this isnt totally correct bc of the stuff.\n",
    "\n"
   ]
  },
  {
   "cell_type": "code",
   "execution_count": 57,
   "metadata": {},
   "outputs": [
    {
     "data": {
      "text/plain": [
       "array([ 1307123.,  1356642.,  1369317.,  1388159.,  1446766.,  1472211.,\n",
       "        1532008.,  1596274.,  1615081.,  1644045.,  2660894.,  2825279.,\n",
       "        2966329.,  2983848.,  3028985.,  3031479.,  3033719.,  3067962.,\n",
       "        3070540.,  3072853.,  3091247.,  3100331.,  3124660.,  3150246.,\n",
       "        3152754.,  3154662.,  3156450.,  3197681.,  3231248.,  3234079.,\n",
       "        3236202.,  3238219.,  3240178.,  3242267.,  3263548.,  3265576.,\n",
       "        3267439.,  3269304.,  3278456.,  3305389.,  3390657.,  3479701.,\n",
       "        3482813.,  3787292.,  3810557.,  3931991.,  3941271.,  3949061.,\n",
       "        3964947.,  4464758.,  4500306.,  4502755.,  4512139.,  4514283.,\n",
       "        4816652.,  4819259.,  4902353.,  4911113.,  4919457.,  4928720.,\n",
       "        4945514.,  4982039.,  4984537.,  5024817.,  5045527.,  5067615.,\n",
       "        5070130.,  5100981.,  5147155.,  5149683.,  5159331.,  5173121.,\n",
       "        5184239.,  5189275.,  5194508.,  5196812.,  5199251.,  5212084.,\n",
       "        5230332.,  5263838.,  5272876.,  5353836.,  5412504.,  5428428.,\n",
       "        5448886.,  5478000.,  6297184.,  6300223.,  6318245.,  6320923.,\n",
       "        6337374.,  6346006.,  6370968.])"
      ]
     },
     "execution_count": 57,
     "metadata": {},
     "output_type": "execute_result"
    }
   ],
   "source": [
    "df2=blocks.append(df)\n",
    "\n",
    "df2.sort_values(\"onset\")\n",
    "\n",
    "log\n",
    "\n",
    "rating_mask = [\"rating\" in log['Code'][i] for i in range(0,log.shape[0])]  \n",
    "log['Time'].shift(1).loc[rating_mask].values"
   ]
  },
  {
   "cell_type": "code",
   "execution_count": 56,
   "metadata": {},
   "outputs": [
    {
     "data": {
      "text/plain": [
       "5      1307123.0\n",
       "7      1356642.0\n",
       "9      1369317.0\n",
       "11     1388159.0\n",
       "13     1446766.0\n",
       "15     1472211.0\n",
       "17     1532008.0\n",
       "19     1596274.0\n",
       "21     1615081.0\n",
       "23     1644045.0\n",
       "25     2660894.0\n",
       "27     2825279.0\n",
       "31     2966329.0\n",
       "33     2983848.0\n",
       "35     3028985.0\n",
       "37     3031479.0\n",
       "39     3033719.0\n",
       "41     3067962.0\n",
       "43     3070540.0\n",
       "45     3072853.0\n",
       "47     3091247.0\n",
       "49     3100331.0\n",
       "51     3124660.0\n",
       "53     3150246.0\n",
       "55     3152754.0\n",
       "57     3154662.0\n",
       "59     3156450.0\n",
       "61     3197681.0\n",
       "63     3231248.0\n",
       "65     3234079.0\n",
       "         ...    \n",
       "133    5024817.0\n",
       "135    5045527.0\n",
       "137    5067615.0\n",
       "139    5070130.0\n",
       "141    5100981.0\n",
       "143    5147155.0\n",
       "145    5149683.0\n",
       "147    5159331.0\n",
       "149    5173121.0\n",
       "151    5184239.0\n",
       "153    5189275.0\n",
       "155    5194508.0\n",
       "157    5196812.0\n",
       "159    5199251.0\n",
       "161    5212084.0\n",
       "163    5230332.0\n",
       "165    5263838.0\n",
       "167    5272876.0\n",
       "169    5353836.0\n",
       "171    5412504.0\n",
       "173    5428428.0\n",
       "175    5448886.0\n",
       "177    5478000.0\n",
       "179    6297184.0\n",
       "181    6300223.0\n",
       "183    6318245.0\n",
       "185    6320923.0\n",
       "187    6337374.0\n",
       "189    6346006.0\n",
       "191    6370968.0\n",
       "Name: Time, dtype: float64"
      ]
     },
     "execution_count": 56,
     "metadata": {},
     "output_type": "execute_result"
    }
   ],
   "source": [
    "rating_mask = [\"rating\" in log['Code'][i] for i in range(0,log.shape[0])]  \n",
    "log['Time'].shift(1).loc[rating_mask]\n"
   ]
  },
  {
   "cell_type": "code",
   "execution_count": 34,
   "metadata": {},
   "outputs": [
    {
     "data": {
      "text/plain": [
       "{'duration': '40', 'stim_file': 'circles1'}"
      ]
     },
     "execution_count": 34,
     "metadata": {},
     "output_type": "execute_result"
    }
   ],
   "source": [
    "vid_lengths = pd.read_csv('EA-vid-lengths.csv')\n",
    "vid_lengths.columns = map(str.lower, vid_lengths.columns)\n",
    "vid_lengths = vid_lengths.rename(index={0:\"stim_file\", 1:\"duration\"})\n",
    "vid_lengths = vid_lengths.to_dict()\n",
    "\n",
    "\n",
    "\n",
    "\n",
    "\n",
    "\n",
    "mask = [\"vid\" in log['Code'][i] for i in range(0,log.shape[0]-1)]\n",
    "    #this isnt totally right lol\n",
    "df = pd.DataFrame({'onset':log.loc[mask]['Time'], \n",
    "                  'trial_type':log.loc[mask]['Event Type'], \n",
    "                  'movie_name':log.loc[mask]['Code']})\n",
    "    \n",
    "df['trial_type']=df['movie_name'].apply(lambda x: \"circle_block\" if \"cvid\" in x else \"EA_block\")\n",
    "\n",
    "#add durations and convert them into the units here? ms??\n",
    "df['duration']=df['movie_name'].apply(lambda x: int(vid_info[x]['duration'])*10000 if x in vid_info else \"n/a\")\n",
    "\n",
    "#I don't actually know what the stim files are called for the circle ones - also these names aren't exact\n",
    "df['stim_file']=df['movie_name'].apply(lambda x: vid_info[x]['stim_file'] if x in vid_info else \"n/a\")\n",
    "\n"
   ]
  }
 ],
 "metadata": {
  "kernelspec": {
   "display_name": "Python 2",
   "language": "python",
   "name": "python2"
  },
  "language_info": {
   "codemirror_mode": {
    "name": "ipython",
    "version": 2
   },
   "file_extension": ".py",
   "mimetype": "text/x-python",
   "name": "python",
   "nbconvert_exporter": "python",
   "pygments_lexer": "ipython2",
   "version": "2.7.12"
  }
 },
 "nbformat": 4,
 "nbformat_minor": 2
}
